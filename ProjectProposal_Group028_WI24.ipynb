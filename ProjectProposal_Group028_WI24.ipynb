{
 "cells": [
  {
   "cell_type": "markdown",
   "metadata": {},
   "source": [
    "# COGS 108 - Project Proposal"
   ]
  },
  {
   "cell_type": "markdown",
   "metadata": {},
   "source": [
    "# Names\n",
    "\n",
    "- James DeLisio\n",
    "- Karisma Kumar\n",
    "- Chi Kiet Chou\n",
    "- Anthony Gonzalez\n",
    "- Chengyuan Mao"
   ]
  },
  {
   "cell_type": "markdown",
   "metadata": {},
   "source": [
    "# Research Question"
   ]
  },
  {
   "cell_type": "markdown",
   "metadata": {},
   "source": [
    "Our research question sets out to examine what characteristics of movies influence their user rating score on IMDB. In particular, we will look at the runtime, budget, genre, MPA (Motion Picture Association) Rating, and release month to see if any of these metrics correlate with movie’s average user rating score on IMDB. In addition, we want to use revenue as a secondary baseline to understand the significance of the characteristics. Furthermore, we are curious about the relationship between revenue made by the movies and its user ratings.\n",
    "\n"
   ]
  },
  {
   "cell_type": "markdown",
   "metadata": {},
   "source": [
    "## Background and Prior Work"
   ]
  },
  {
   "cell_type": "markdown",
   "metadata": {},
   "source": [
    "\n",
    "Movies are one of the oldest and most influential forms of entertainment. As shown throughout history, movies have pushed technology advancement over and over again. Today, the cinema industry has grown to one of the most competitive and expensive industries. Many corporations from all scales rely on successful movies to drive their comercial revenue. Thus, bringing up the significance of movie ratings. A secondary dependent variable we would like to consider as well is the revenue of a film. A profitable movie does not always make it a critical hit, and vice versa. However, from the studio’s perspective, a lucrative film is a success. As such, we are also interested in seeing how the prior factors correlate to a film’s overall revenue.\n",
    "\n",
    "Although being a competitive industry, we have seen time and time where indie movies with low budgets shocked the media with positive ratings1. On the other hand, many movies from big corporations have historically been crowned as the biggest flops in both critics and audience ratings, despite having triple or quadruple budgets2. Despite the outliers, as shown in “A predictor for movie success”3, the budget has been pretty consistent with the movie’s revenue which could indicate that their ratings could be positively correlated.\n",
    "\n",
    "Having backed a bigger fund would allow big studios to be more flexible in their runtime. However, the longer the runtime is the higher the risk of discomfort and undesired experience, as evidently that human’s attention span is limited4. Meanwhile, shorter movies limited the movies’ content and how it is delivered. All of which could impact the movie ratings. Finally, due to the long history of movies, some would regard movies as a medium of cultural exchange. It isn’t surprising that movie studios make very intentional choices when it comes to the genre of the story and the maturity of the content in the movie, as they all have different audiences, standards, and competition. Furthermore, we found a prior study about the release date’s impact on the ratings1. Although they didn’t directly show any significance of release date in correlation with ratings, it is also traditional for movies with certain content to be released on a certain date such as October having the highest number of horror movie releases5.\n",
    "\n",
    " **Use inline citation through HTML footnotes to specify which references support which statements** \n",
    "\n",
    "For example: After government genocide in the 20th century, real birds were replaced with surveillance drones designed to look just like birds.<a name=\"cite_ref-1\"></a>[<sup>1</sup>](#cite_note-1) Use a minimum of 2 or 3 citations, but we prefer more.<a name=\"cite_ref-2\"></a>[<sup>2</sup>](#cite_note-2) You need enough to fully explain and back up important facts. \n",
    "\n",
    "Note that if you click a footnote number in the paragraph above it will transport you to the proper entry in the footnotes list below.  And if you click the ^ in the footnote entry, it will return you to the place in the main text where the footnote is made.\n",
    "\n",
    "To understand the HTML here, `<a name=\"#...\"> </a>` is a tag that allows you produce a named reference for a given location.  Markdown has the construciton `[text with hyperlink](#named reference)` that will produce a clickable link that transports you the named reference.\n",
    "\n",
    "1. <a name=\"cite_note-1\"></a> [^](#cite_ref-1) Gama, D. (2023). The 15 Best Indie Movies of All Time, According to Reddit https://collider.com/best-indie-movies-reddit \n",
    "2. <a name=\"cite_note-2\"></a> [^](#cite_ref-2) Ryan, J. (2021). Biggest movie flops: The 42 biggest box-office bombs https://www.cbsnews.com/pictures/biggest-movie-flops-box-office-bombs/ \n",
    "3. <a name=\"cite_note-3\"></a> [^](#cite_ref-3) Ericson, J., & Goodman, J. (2013). A predictor for movie success. CS229, Stanford University. https://cs229.stanford.edu/proj2013/EricsonGrodman-APredictorForMovieSuccess.pdf \n",
    "4. <a name=\"cite_note-4\"></a> [^](#cite_ref-4) Hollander, A. (2023). Average Human Attention Span By Age: 60 Statistics https://www.bridgecareaba.com/blog/average-human-attention-span \n",
    "5. <a name=\"cite_note-5\"></a> [^](#cite_ref-5) https://wheresthejump.com/monthly-distribution-of-horror-movies-during-what-period-of-the-year-are-most-horror-movies-released/ \n",
   ]
  },
  {
   "cell_type": "markdown",
   "metadata": {},
   "source": [
    "# Hypothesis\n"
   ]
  },
  {
   "cell_type": "markdown",
   "metadata": {},
   "source": [
    "\n",
    "We predict that of all of our listed factors, the budget and MPA rating of a film will be most strongly correlated with the IMDB average audience rating, with higher budgets and “R” ratings correlating with higher audience ratings. We predict that longer runtimes, being a drama, and being released during the summer will also correlate with a higher average rating on IMDB, since we imagine longer dramas released during summer blockbuster season are more likely to perform well with critics. Similarly, we expect the correlation of each factor will remain the same when put against revenue. In addition, we predict that revenue has a positive correlation with the average user ratings."
   ]
  },
  {
   "cell_type": "markdown",
   "metadata": {},
   "source": [
    "# Data"
   ]
  },
  {
   "cell_type": "markdown",
   "metadata": {},
   "source": [
    "For our ideal dataset, we would need information on several metrics regarding films pulled from IMDB’s movie database. We would need the film’s average user rating, the runtime of the film, its budget (in USD), its total box office revenue (in USD), release month, genre, and MPA rating (G, PG, PG-13, R, etc). We should note that our monetary metrics (budget and revenue) should all be adjusted for inflation to make for a valid comparison. \n",
    "Previous sources have mentioned the difficulty of scraping data from IMDB due to its inconsistent data entry formats (data is stored in text documents, not in tables or .csv files). If possible, we hope to avoid scraping this data directly from IMDB and will instead seek out recent existing databases that contain information from IMDB. We will also be limiting our dataset to only include movies, although IMDB also includes television series in its database."
   ]
  },
  {
   "cell_type": "markdown",
   "metadata": {},
   "source": [
    "# Ethics & Privacy"
   ]
  },
  {
   "cell_type": "markdown",
   "metadata": {},
   "source": [
    "Throughout our research project, we aim to keep ethical practice and user privacy as top priorities in our process. All data we plan to use will be publicly available. A film’s revenue and information about its characteristics are all publicly available and impersonal information, and the IMDB average rating for a film is a mean taken from several anonymous individual reviewers, meaning our variables of interest are all ethically sourced. Our datasets will likely mostly be taken from Kaggle, which hosts publicly available data, and we plan to take full responsibility for the ethical implications of our results. \n",
    "\n",
    "While movies are a fairly casual and broad topic, we were careful in selecting our variables to consider any analysis that may be sensitive or allow room for misleading results or interpretations. While we are accessing user’s ratings of a film on IMDB, we have no access to user’s personal information, and are instead pulling an average rating from the scores of countless users, meaning the privacy of IMDB users is protected. We are committed to analyzing our data and interpreting our results in an objective and unbiased manner, and will strive to avoid misrepresenting our results or engaging in any faulty analytical practices (p-hacking, etc.). By choosing our data carefully and dedicating ourselves to fair research practices, we hope to maintain ethics and privacy in our project."
   ]
  },
  {
   "cell_type": "markdown",
   "metadata": {},
   "source": [
    "# Team Expectations "
   ]
  },
  {
   "cell_type": "markdown",
   "metadata": {},
   "source": [
    "\n",
    "Our team will communicate through a discord server that we are all in. We will be able to chat continuously on the server, and have meetings on voice call or in person when necessary. We expect that each team member will make consistent and significant contributions to the project, from research, to data collection, to coding, and writing up the final report. We will divide up the work on each phase of the project as it comes to make sure that nobody takes on more work than is necessary, and we expect that all team members will communicate early if they have other responsibilities or anything urgent comes up."
   ]
  },
  {
   "cell_type": "markdown",
   "metadata": {},
   "source": [
    "# Project Timeline Proposal"
   ]
  },
  {
   "cell_type": "markdown",
   "metadata": {},
   "source": [
    "\n",
    "\n",
    "\n",
    "| Meeting Date  | Meeting Time| Completed Before Meeting  | Discuss at Meeting |\n",
    "|---|---|---|---|\n",
    "| Week 5  |  2 PM | Create discord  | Discussed project topics, searched for datasets, discussed potential variables | \n",
    "| Week 7  |  TBA | Project proposal, finding datasets | Discuss EDA approach | \n",
    "| Week 8  | TBA  | Import data, wrangle data, perform EDA  | Discuss analysis approach, divide up work   |\n",
    "| Week 10  | TBA  | Perform analysis and create visualizations | Discuss and interpret results, begin write-up   |\n",
    "| Finals Week  | TBA  | Finish project write-up | Turn in Final Project & Group Project Surveys |"
   ]
  }
 ],
 "metadata": {
  "kernelspec": {
   "display_name": "Python 3 (ipykernel)",
   "language": "python",
   "name": "python3"
  },
  "language_info": {
   "codemirror_mode": {
    "name": "ipython",
    "version": 3
   },
   "file_extension": ".py",
   "mimetype": "text/x-python",
   "name": "python",
   "nbconvert_exporter": "python",
   "pygments_lexer": "ipython3",
   "version": "3.9.7"
  }
 },
 "nbformat": 4,
 "nbformat_minor": 2
}
