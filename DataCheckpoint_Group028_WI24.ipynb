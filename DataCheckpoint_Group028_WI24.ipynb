{
 "cells": [
  {
   "cell_type": "markdown",
   "metadata": {},
   "source": [
    "**If you lost points on the last checkpoint you can get them back by responding to TA/IA feedback**  \n",
    "\n",
    "Update/change the relevant sections where you lost those points, make sure you respond on GitHub Issues to your TA/IA to call their attention to the changes you made here.\n",
    "\n",
    "Please update your Timeline... no battle plan survives contact with the enemy, so make sure we understand how your plans have changed."
   ]
  },
  {
   "cell_type": "markdown",
   "metadata": {},
   "source": [
    "# COGS 108 - Data Checkpoint"
   ]
  },
  {
   "cell_type": "markdown",
   "metadata": {},
   "source": [
    "# Names\n",
    "\n",
    "- James DeLisio\n",
    "- Karisma Kumar\n",
    "- Chi Kiet Chou\n",
    "- Anthony Gonzalez\n",
    "- Chengyuan Mao"
   ]
  },
  {
   "cell_type": "markdown",
   "metadata": {},
   "source": [
    "# Research Question"
   ]
  },
  {
   "cell_type": "markdown",
   "metadata": {},
   "source": [
    "-  Include a specific, clear data science question.\n",
    "-  Make sure what you're measuring (variables) to answer the question is clear\n",
    "\n",
    "What is your research question? Include the specific question you're setting out to answer. This question should be specific, answerable with data, and clear. A general question with specific subquestions is permitted. (1-2 sentences)\n",
    "\n",
    "Our research question sets out to examine what characteristics of movies influence their user rating score on IMDB. In particular, we will look at the runtime, budget, genre, MPA (Motion Picture Association) Rating, and release month to see if any of these metrics correlate with movie’s average user rating score on IMDB. In addition, we want to treat revenue as a secondary outcome variable, and see how each factor listed earlier correlates with a film's revenue. Furthermore, we are curious about the relationship between revenue made by the movies and its user ratings.\n",
    "\n"
   ]
  },
  {
   "cell_type": "markdown",
   "metadata": {},
   "source": [
    "## Background and Prior Work"
   ]
  },
  {
   "cell_type": "markdown",
   "metadata": {},
   "source": [
    "The film industry has grown to one of the most competitive and expensive industries. Being one of the most influential forms of entertainment, studios compete against each other by making intentional choices and investing money in certain films, hoping for great returns from critics and audiences. Today, the cinema industry has grown to one of the most competitive and expensive industries, with many large tech companies like Apple and Amazon pivoting toward the film industry to capitalize on successful movies to drive their comercial revenue. Thus, we are interested in seeing what kinds of movies are most favorable with audiences.This brings up the significance of movie ratings. In the paper “A Predictor for Movie Success”<a name=\"cite_ref-1\"></a>[<sup>1</sup>](#cite_note-1), Ericson and Grodman proposed using machine learning to determine the relationships between sets of metrics about a film, and the film’s critics scores, audience scores, US gross revenue, open weekend gross revenue, and film’s IMDB rating. These sets of metrics contain the factors that we are interested in studying, among others. One of these models highlighted the audience score as the best predictor for a film’s success among all factors. This confirms our belief that there is a correlation between the features that we selected, with audience ratings.\n",
    "\n",
    "Although the film industry is highly competitive, it has been seen several times that indie movies with low budgets from unknown studios can defy expectations with high revenue and ratings. In another study by Max Wasserman et al<a name=\"cite_ref-2\"></a>[<sup>2</sup>](#cite_note-2), they pointed out the historical changes in correlation between movie budget and user ratings. As movie theaters expanded, the exposure for lower budget films also increased, meaning the correlation between a film’s budget and its potential success in terms of rating and revenue may be more complicated. However, their results do show a strong positive correlation between budget films and user ratings overall, supporting our hypothesis.\n",
    "\n",
    "With bigger budgets, movie studios and directors would have more flexibility in their film’s genre choices, runtime, release date, and even content targeting audiences with a certain level of maturity. All of these factors have their own advantages and tradeoffs for user ratings. In a paper by Pedro Garcia-del-Barrio and Hugo Zarco<a name=\"cite_ref-3\"></a>[<sup>3</sup>](#cite_note-3), they analyzed the influence of a film’s contents with its box office revenue. They included factors such as genre, mature contents, release season in their analysis, and their results showed a significant influence for all of those factors with box office revenue across 4 models. Furthermore, they also showed that certain genres of film have more significance than others. Although this paper didn’t cover user ratings, “A Predictor for Movie Success”<a name=\"cite_ref-1\"></a>[<sup>1</sup>](#cite_note-1) points out the positive correlation between a movie’s revenue and user ratings. Hence, we hope to see the influence of genre, release date, and mature content (associated with a higher MPA Rating) to be translated into user ratings in our analysis.\n",
    "\n",
    "While a film’s rating is a direct metric to measure the audience’s satisfaction, a profitable movie does not always make it highly rated, and vice versa. However, from the studio’s perspective, a lucrative film is a success. As such, we are also interested in seeing how the prior factors correlate to a film’s overall revenue.\n",
    "\n",
    "1. <a name=\"cite_note-1\"></a> [^](#cite_ref-1) Ericson, J., & Goodman, J. (2013). A predictor for movie success. CS229, Stanford University. https://cs229.stanford.edu/proj2013/EricsonGrodman-APredictorForMovieSuccess.pdf\n",
    " \n",
    "2. <a name=\"cite_note-2\"></a> [^](#cite_ref-2) Gama, D. (2023). Wasserman, M., Mukherjee, S., Scott, K., Zeng, X. H. T., Radicchi, F., & Amaral, L. A. (2015). Correlations between user voting data, budget, and box office for films in the internet movie database. Journal of the Association for Information Science and Technology, 66(4), 858-868. https://cgi.luddy.indiana.edu/~filiradi/Mypapers/asi23213.pdf\n",
    " \n",
    "3. <a name=\"cite_note-3\"></a> [^](#cite_ref-3) Garcia-del-Barrio, P., & Zarco, H. (2017). Do movie contents influence box-office revenues?. Applied Economics, 49(17), 1679-1688. https://merit.url.edu/en/publications/do-movie-contents-influence-box-office-revenues\n",
    "\n"
   ]
  },
  {
   "cell_type": "markdown",
   "metadata": {},
   "source": [
    "# Hypothesis\n"
   ]
  },
  {
   "cell_type": "markdown",
   "metadata": {},
   "source": [
    "We predict that of all of our listed factors, the budget and MPA rating of a film will be most strongly correlated with the IMDB average audience rating, with higher budgets and “R” ratings correlating with higher audience ratings. We predict that longer runtimes, being a drama, and being released during the summer will also correlate with a higher average rating on IMDB, since we imagine longer dramas released during summer blockbuster season are more likely to perform well with critics. Similarly, we expect the correlation of each factor will remain the same when put against revenue. In addition, we predict that revenue has a positive correlation with the average user ratings."
   ]
  },
  {
   "cell_type": "markdown",
   "metadata": {},
   "source": [
    "# Data"
   ]
  },
  {
   "cell_type": "markdown",
   "metadata": {},
   "source": [
    "## Data overview\n",
    "\n",
    "For each dataset include the following information\n",
    "- Dataset #1\n",
    "  - Dataset Name: \"Movie Industry\"\n",
    "  - Link to the dataset: https://www.kaggle.com/datasets/danielgrijalvas/movies\n",
    "  - Number of observations: 6820\n",
    "  - Number of variables: 15\n",
    "\n",
    "For our ideal dataset, we would need information on several metrics regarding films pulled from IMDB’s movie database. We would need the film’s average user rating, the runtime of the film, its budget (in USD), its total box office revenue (in USD), release month, genre, and MPA rating (G, PG, PG-13, R, etc). We should note that our monetary metrics (budget and revenue) should all be adjusted for inflation to make for a valid comparison. Previous sources have mentioned the difficulty of scraping data from IMDB due to its inconsistent data entry formats (data is stored in text documents, not in tables or .csv files). If possible, we hope to avoid scraping this data directly from IMDB and will instead seek out recent existing databases that contain information from IMDB. We will also be limiting our dataset to only include movies, although IMDB also includes television series in its database. There are numerous datasets from IMDB available on Kaggle. One of which, called \"Movie Industry,\" contains all the necessary variables we would be analyzing. This dataset only includes information on films as recent as 2020, but for the purposes of this analysis, we feel that this time range should provide more than enough observations to see if any preliminary correlations exist.\n",
    "\n",
    "The primary dataset we will be using is titled \"Movie Industry\" by Daniel Grijalva (https://www.kaggle.com/datasets/danielgrijalvas/movies), sourced from Kaggle. This dataset contains several metrics about a selection of films from every year from 1986-2016, including all of the factors we want to test in our hypothesis. The key variables we will be selecting are: \n",
    "- \"name\" : gives the movie name as a string.\n",
    "- \"year : gives the film's release year as an int.\n",
    "- \"budget\" : gives the film's estimated budget in USD (not adjusted for inflation)\n",
    "- \"gross\" : gives the film's estimated gross revenue in USD (not adjusted for inflation)\n",
    "- \"runtime\" : gives the film's runtime in minutes as an int\n",
    "- \"genre\" : gives the film's main genre as a string\n",
    "- \"score\" : gives the film's average user rating on IMDB\n",
    "\n",
    "These variables are all direct measures of the factors we want to examine in our hypothesis, so most of the wrangling necessary will simply be removing unecessary columns, dealing with NA values, and renaming columns for better usability. Also, we will need to convert the budget and revenue values to account for inflation, so that we can accurately compare the fiscal information for the films across time."
   ]
  },
  {
   "cell_type": "markdown",
   "metadata": {},
   "source": [
    "## Dataset #1: \"Movie Industry\" Dataset"
   ]
  },
  {
   "cell_type": "markdown",
   "metadata": {},
   "source": [
    "First, we install pandas and seaborn, which we will be using for our analysis."
   ]
  },
  {
   "cell_type": "code",
   "execution_count": null,
   "metadata": {},
   "outputs": [],
   "source": [
    "import pandas as pd\n",
    "import seaborn as sns"
   ]
  },
  {
   "cell_type": "markdown",
   "metadata": {},
   "source": [
    "Next, we load our dataset and look at the first few rows."
   ]
  },
  {
   "cell_type": "code",
   "execution_count": null,
   "metadata": {},
   "outputs": [],
   "source": [
    "df = pd.read_csv('./assets/movies.csv')\n",
    "df.head()"
   ]
  },
  {
   "cell_type": "markdown",
   "metadata": {},
   "source": [
    "First, we will drop all rows containing NA values, or rows where the \"budget\", \"runtime\", or \"gross\" are equal to 0. In the dataset notes on Kaggle, it was specified that these numerical values have a 0 where there was no data available, so we are treating 0 as an NA for these columns. We are dropping the entire row if any column is NA, since we would not be able to compare it to the other films in the dataset."
   ]
  },
  {
   "cell_type": "code",
   "execution_count": null,
   "metadata": {},
   "outputs": [],
   "source": [
    "df = df.dropna()\n",
    "df.isna().any(axis=1).sum()\n",
    "df = df[df['budget'] != 0]\n",
    "df = df[df['gross'] != 0]\n",
    "df = df[df['runtime'] != 0]"
   ]
  },
  {
   "cell_type": "markdown",
   "metadata": {},
   "source": [
    "Next, we will adjust our dataframe so it only includes the columns that are relevant to our research question. We chose to keep \"year\" even though it is not one of the factors we're interested in, since we will need to know what year a movie came out in to adjust the revenue and budget for inflation."
   ]
  },
  {
   "cell_type": "code",
   "execution_count": 83,
   "metadata": {},
   "outputs": [
    {
     "data": {
      "text/html": [
       "<div>\n",
       "<style scoped>\n",
       "    .dataframe tbody tr th:only-of-type {\n",
       "        vertical-align: middle;\n",
       "    }\n",
       "\n",
       "    .dataframe tbody tr th {\n",
       "        vertical-align: top;\n",
       "    }\n",
       "\n",
       "    .dataframe thead th {\n",
       "        text-align: right;\n",
       "    }\n",
       "</style>\n",
       "<table border=\"1\" class=\"dataframe\">\n",
       "  <thead>\n",
       "    <tr style=\"text-align: right;\">\n",
       "      <th></th>\n",
       "      <th>name</th>\n",
       "      <th>rating</th>\n",
       "      <th>genre</th>\n",
       "      <th>year</th>\n",
       "      <th>score</th>\n",
       "      <th>budget</th>\n",
       "      <th>revenue</th>\n",
       "      <th>runtime</th>\n",
       "    </tr>\n",
       "  </thead>\n",
       "  <tbody>\n",
       "    <tr>\n",
       "      <th>0</th>\n",
       "      <td>The Shining</td>\n",
       "      <td>R</td>\n",
       "      <td>Drama</td>\n",
       "      <td>1980</td>\n",
       "      <td>8.4</td>\n",
       "      <td>19000000.0</td>\n",
       "      <td>46998772.0</td>\n",
       "      <td>146.0</td>\n",
       "    </tr>\n",
       "    <tr>\n",
       "      <th>1</th>\n",
       "      <td>The Blue Lagoon</td>\n",
       "      <td>R</td>\n",
       "      <td>Adventure</td>\n",
       "      <td>1980</td>\n",
       "      <td>5.8</td>\n",
       "      <td>4500000.0</td>\n",
       "      <td>58853106.0</td>\n",
       "      <td>104.0</td>\n",
       "    </tr>\n",
       "    <tr>\n",
       "      <th>2</th>\n",
       "      <td>Star Wars: Episode V - The Empire Strikes Back</td>\n",
       "      <td>PG</td>\n",
       "      <td>Action</td>\n",
       "      <td>1980</td>\n",
       "      <td>8.7</td>\n",
       "      <td>18000000.0</td>\n",
       "      <td>538375067.0</td>\n",
       "      <td>124.0</td>\n",
       "    </tr>\n",
       "    <tr>\n",
       "      <th>3</th>\n",
       "      <td>Airplane!</td>\n",
       "      <td>PG</td>\n",
       "      <td>Comedy</td>\n",
       "      <td>1980</td>\n",
       "      <td>7.7</td>\n",
       "      <td>3500000.0</td>\n",
       "      <td>83453539.0</td>\n",
       "      <td>88.0</td>\n",
       "    </tr>\n",
       "    <tr>\n",
       "      <th>4</th>\n",
       "      <td>Caddyshack</td>\n",
       "      <td>R</td>\n",
       "      <td>Comedy</td>\n",
       "      <td>1980</td>\n",
       "      <td>7.3</td>\n",
       "      <td>6000000.0</td>\n",
       "      <td>39846344.0</td>\n",
       "      <td>98.0</td>\n",
       "    </tr>\n",
       "    <tr>\n",
       "      <th>...</th>\n",
       "      <td>...</td>\n",
       "      <td>...</td>\n",
       "      <td>...</td>\n",
       "      <td>...</td>\n",
       "      <td>...</td>\n",
       "      <td>...</td>\n",
       "      <td>...</td>\n",
       "      <td>...</td>\n",
       "    </tr>\n",
       "    <tr>\n",
       "      <th>7648</th>\n",
       "      <td>Bad Boys for Life</td>\n",
       "      <td>R</td>\n",
       "      <td>Action</td>\n",
       "      <td>2020</td>\n",
       "      <td>6.6</td>\n",
       "      <td>90000000.0</td>\n",
       "      <td>426505244.0</td>\n",
       "      <td>124.0</td>\n",
       "    </tr>\n",
       "    <tr>\n",
       "      <th>7649</th>\n",
       "      <td>Sonic the Hedgehog</td>\n",
       "      <td>PG</td>\n",
       "      <td>Action</td>\n",
       "      <td>2020</td>\n",
       "      <td>6.5</td>\n",
       "      <td>85000000.0</td>\n",
       "      <td>319715683.0</td>\n",
       "      <td>99.0</td>\n",
       "    </tr>\n",
       "    <tr>\n",
       "      <th>7650</th>\n",
       "      <td>Dolittle</td>\n",
       "      <td>PG</td>\n",
       "      <td>Adventure</td>\n",
       "      <td>2020</td>\n",
       "      <td>5.6</td>\n",
       "      <td>175000000.0</td>\n",
       "      <td>245487753.0</td>\n",
       "      <td>101.0</td>\n",
       "    </tr>\n",
       "    <tr>\n",
       "      <th>7651</th>\n",
       "      <td>The Call of the Wild</td>\n",
       "      <td>PG</td>\n",
       "      <td>Adventure</td>\n",
       "      <td>2020</td>\n",
       "      <td>6.8</td>\n",
       "      <td>135000000.0</td>\n",
       "      <td>111105497.0</td>\n",
       "      <td>100.0</td>\n",
       "    </tr>\n",
       "    <tr>\n",
       "      <th>7652</th>\n",
       "      <td>The Eight Hundred</td>\n",
       "      <td>Not Rated</td>\n",
       "      <td>Action</td>\n",
       "      <td>2020</td>\n",
       "      <td>6.8</td>\n",
       "      <td>80000000.0</td>\n",
       "      <td>461421559.0</td>\n",
       "      <td>149.0</td>\n",
       "    </tr>\n",
       "  </tbody>\n",
       "</table>\n",
       "<p>5421 rows × 8 columns</p>\n",
       "</div>"
      ],
      "text/plain": [
       "                                                name     rating      genre  \\\n",
       "0                                        The Shining          R      Drama   \n",
       "1                                    The Blue Lagoon          R  Adventure   \n",
       "2     Star Wars: Episode V - The Empire Strikes Back         PG     Action   \n",
       "3                                          Airplane!         PG     Comedy   \n",
       "4                                         Caddyshack          R     Comedy   \n",
       "...                                              ...        ...        ...   \n",
       "7648                               Bad Boys for Life          R     Action   \n",
       "7649                              Sonic the Hedgehog         PG     Action   \n",
       "7650                                        Dolittle         PG  Adventure   \n",
       "7651                            The Call of the Wild         PG  Adventure   \n",
       "7652                               The Eight Hundred  Not Rated     Action   \n",
       "\n",
       "      year  score       budget      revenue  runtime  \n",
       "0     1980    8.4   19000000.0   46998772.0    146.0  \n",
       "1     1980    5.8    4500000.0   58853106.0    104.0  \n",
       "2     1980    8.7   18000000.0  538375067.0    124.0  \n",
       "3     1980    7.7    3500000.0   83453539.0     88.0  \n",
       "4     1980    7.3    6000000.0   39846344.0     98.0  \n",
       "...    ...    ...          ...          ...      ...  \n",
       "7648  2020    6.6   90000000.0  426505244.0    124.0  \n",
       "7649  2020    6.5   85000000.0  319715683.0     99.0  \n",
       "7650  2020    5.6  175000000.0  245487753.0    101.0  \n",
       "7651  2020    6.8  135000000.0  111105497.0    100.0  \n",
       "7652  2020    6.8   80000000.0  461421559.0    149.0  \n",
       "\n",
       "[5421 rows x 8 columns]"
      ]
     },
     "execution_count": 83,
     "metadata": {},
     "output_type": "execute_result"
    }
   ],
   "source": [
    "df = df[['name', 'rating', 'genre', 'year', 'score', 'budget', 'gross', 'runtime']]\n",
    "cleaned_df = df.rename(columns={'gross': 'revenue'})\n",
    "cleaned_df"
   ]
  },
  {
   "cell_type": "markdown",
   "metadata": {},
   "source": [
    "# Ethics & Privacy"
   ]
  },
  {
   "cell_type": "markdown",
   "metadata": {},
   "source": [
    "Throughout our research project, we aim to keep ethical practice and user privacy as top priorities in our process. All data we plan to use will be publicly available. A film’s revenue and information about its characteristics are all publicly available and impersonal information, and the IMDB average rating for a film is a mean taken from several anonymous individual reviewers, meaning our variables of interest are all ethically sourced. Our datasets will likely mostly be taken from Kaggle, which hosts publicly available data, and we plan to take full responsibility for the ethical implications of our results. \n",
    "\n",
    "While movies are a fairly casual and broad topic, we were careful in selecting our variables to consider any analysis that may be sensitive or allow room for misleading results or interpretations. While we are accessing user’s ratings of a film on IMDB, we have no access to user’s personal information, and are instead pulling an average rating from the scores of countless users, meaning the privacy of IMDB users is protected. We are committed to analyzing our data and interpreting our results in an objective and unbiased manner, and will strive to avoid misrepresenting our results or engaging in any faulty analytical practices (p-hacking, etc.). By choosing our data carefully and dedicating ourselves to fair research practices, we hope to maintain ethics and privacy in our project."
   ]
  },
  {
   "cell_type": "markdown",
   "metadata": {},
   "source": [
    "# Team Expectations "
   ]
  },
  {
   "cell_type": "markdown",
   "metadata": {},
   "source": [
    "Our team will communicate through a discord server that we are all in. We will be able to chat continuously on the server, and have meetings on voice call or in person when necessary. We expect that each team member will make consistent and significant contributions to the project, from research, to data collection, to coding, and writing up the final report. We will divide up the work on each phase of the project as it comes to make sure that nobody takes on more work than is necessary, and we expect that all team members will communicate early if they have other responsibilities or anything urgent comes up."
   ]
  },
  {
   "cell_type": "markdown",
   "metadata": {},
   "source": [
    "# Project Timeline Proposal"
   ]
  },
  {
   "cell_type": "markdown",
   "metadata": {},
   "source": [
    "\n",
    "\n",
    "\n",
    "| Meeting Date  | Meeting Time| Completed Before Meeting  | Discuss at Meeting |\n",
    "|---|---|---|---|\n",
    "| Week 5  |  2 PM | Create discord  | Discussed project topics, searched for datasets, discussed potential variables | \n",
    "| Week 7  |  7 PM | Project proposal, finding datasets | Update project proposal, Discuss EDA approach | \n",
    "| Week 8  | TBA  | Import data, wrangle data, perform EDA  | Discuss analysis approach, divide up work   |\n",
    "| Week 10  | TBA  | Perform analysis and create visualizations | Discuss and interpret results, begin write-up   |\n",
    "| Finals Week  | TBA  | Finish project write-up | Turn in Final Project & Group Project Surveys |"
   ]
  }
 ],
 "metadata": {
  "kernelspec": {
   "display_name": "Python 3 (ipykernel)",
   "language": "python",
   "name": "python3"
  },
  "language_info": {
   "codemirror_mode": {
    "name": "ipython",
    "version": 3
   },
   "file_extension": ".py",
   "mimetype": "text/x-python",
   "name": "python",
   "nbconvert_exporter": "python",
   "pygments_lexer": "ipython3",
   "version": "3.8.13"
  }
 },
 "nbformat": 4,
 "nbformat_minor": 2
}
